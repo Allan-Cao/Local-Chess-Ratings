{
 "cells": [
  {
   "cell_type": "code",
   "execution_count": 2,
   "metadata": {},
   "outputs": [],
   "source": [
    "from glicko2 import Player\n",
    "from tinydb import TinyDB, Query\n",
    "db = TinyDB('db.json') #this is the database of all the chess players\n",
    "ID = Query()\n",
    "from chessutils import *\n",
    "#import tkinter #must implement tkinter to make it look good"
   ]
  },
  {
   "cell_type": "code",
   "execution_count": 3,
   "metadata": {},
   "outputs": [
    {
     "data": {
      "text/plain": [
       "[{'name': 'Tony',\n",
       "  'rating': 1857.5926233548953,\n",
       "  'rd': 183.75769412700106,\n",
       "  'vol': 0.060002548145805204,\n",
       "  'id': 2}]"
      ]
     },
     "execution_count": 3,
     "metadata": {},
     "output_type": "execute_result"
    }
   ],
   "source": [
    "db.search(Query().id == 2)"
   ]
  },
  {
   "cell_type": "code",
   "execution_count": 32,
   "metadata": {},
   "outputs": [],
   "source": [
    "ratings_list = []\n",
    "player_list = []\n",
    "for item in db:\n",
    "  ratings_list.append(item['rating'])\n",
    "  player_list.append(item['name'])"
   ]
  },
  {
   "cell_type": "code",
   "execution_count": 44,
   "metadata": {},
   "outputs": [],
   "source": [
    "ratings_list, player_list =  zip(*sorted(zip(ratings_list, player_list)))"
   ]
  },
  {
   "cell_type": "code",
   "execution_count": 52,
   "metadata": {},
   "outputs": [
    {
     "name": "stdout",
     "output_type": "stream",
     "text": [
      "Allan 1380.110477435308\n",
      "Josephi 1500\n",
      "Tony 1500\n",
      "Kyle 1502.717883487413\n",
      "Maxim 1597.5947494755242\n",
      "Tony 1857.5926233548953\n"
     ]
    }
   ],
   "source": [
    "playercount = len(ratings_list)\n",
    "for i in range(playercount):\n",
    "    print(player_list[i],ratings_list[i]) "
   ]
  },
  {
   "cell_type": "code",
   "execution_count": 38,
   "metadata": {},
   "outputs": [
    {
     "data": {
      "text/plain": [
       "[{'name': 'Allan',\n",
       "  'rating': 1380.110477435308,\n",
       "  'rd': 168.49928144913156,\n",
       "  'vol': 0.06000430106023993,\n",
       "  'id': 0},\n",
       " {'name': 'Maxim',\n",
       "  'rating': 1597.5947494755242,\n",
       "  'rd': 238.1457910879249,\n",
       "  'vol': 0.06001072922671335,\n",
       "  'id': 1},\n",
       " {'name': 'Tony',\n",
       "  'rating': 1857.5926233548953,\n",
       "  'rd': 183.75769412700106,\n",
       "  'vol': 0.060002548145805204,\n",
       "  'id': 2},\n",
       " {'name': 'Kyle',\n",
       "  'rating': 1502.717883487413,\n",
       "  'rd': 221.6422478010111,\n",
       "  'vol': 0.060000316862322524,\n",
       "  'id': 3},\n",
       " {'name': 'Tony', 'rating': 1500, 'rd': 350, 'vol': 0.06, 'id': 4},\n",
       " {'name': 'Josephi', 'rating': 1500, 'rd': 350, 'vol': 0.06, 'id': 5}]"
      ]
     },
     "execution_count": 38,
     "metadata": {},
     "output_type": "execute_result"
    }
   ],
   "source": [
    "db.all()"
   ]
  },
  {
   "cell_type": "code",
   "execution_count": 8,
   "metadata": {},
   "outputs": [
    {
     "data": {
      "text/plain": [
       "1857.6"
      ]
     },
     "execution_count": 8,
     "metadata": {},
     "output_type": "execute_result"
    }
   ],
   "source": [
    "round(db.search(Query().id == 2)[0]['rating'],1)"
   ]
  },
  {
   "cell_type": "code",
   "execution_count": 12,
   "metadata": {},
   "outputs": [],
   "source": [
    "process_match(1,3,1)"
   ]
  },
  {
   "cell_type": "markdown",
   "metadata": {},
   "source": [
    "## Functions and Tutorial"
   ]
  },
  {
   "cell_type": "markdown",
   "metadata": {},
   "source": [
    "process_match(player 1's id, player 2's id, final result (1=p1 win, 0.5=draw, 0=p2 win))\n",
    "\n",
    "new_player(STRING player_name)\n",
    "\n",
    "Returns the ID of the new player. Write this down!"
   ]
  },
  {
   "cell_type": "code",
   "execution_count": null,
   "metadata": {},
   "outputs": [],
   "source": [
    "#new_player(\"Josephi\")\n",
    "# >> 5\n",
    "# Creates a player named \"Josephi\". Returned the number 5 which is Josephi's ID. \n",
    "#process_match(2,0,1)\n",
    "# Player 2 played Player 0 and Player 2 won!\n",
    "\n",
    "#db.all()\n",
    "# Prints out all of the data in the database\n",
    "\n",
    "#db.search(Query().rating > 1000)\n",
    "# Search the database by rating\n",
    "\n",
    "#db.search(Query().name == 'Tony')\n",
    "# Search the database by name\n",
    "\n",
    "#db.search(Query().id == 2)\n",
    "# Search the database by id! Get ID'd bro!"
   ]
  },
  {
   "cell_type": "markdown",
   "metadata": {},
   "source": [
    "## DANGEROUS functions"
   ]
  },
  {
   "cell_type": "markdown",
   "metadata": {},
   "source": [
    "db.purge()\n",
    "\n",
    "hmmmm.... removes all of the players from the database. really think before running!"
   ]
  }
 ],
 "metadata": {
  "kernelspec": {
   "display_name": "Python 3",
   "language": "python",
   "name": "python3"
  },
  "language_info": {
   "codemirror_mode": {
    "name": "ipython",
    "version": 3
   },
   "file_extension": ".py",
   "mimetype": "text/x-python",
   "name": "python",
   "nbconvert_exporter": "python",
   "pygments_lexer": "ipython3",
   "version": "3.8.1"
  }
 },
 "nbformat": 4,
 "nbformat_minor": 4
}
