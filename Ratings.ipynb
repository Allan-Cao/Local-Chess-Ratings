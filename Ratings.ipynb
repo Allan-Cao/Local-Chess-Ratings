{
 "cells": [
  {
   "cell_type": "code",
   "execution_count": 68,
   "metadata": {},
   "outputs": [],
   "source": [
    "import math\n",
    "from glicko2 import *\n",
    "import sqlite3 as lite\n",
    "import sys\n",
    "_tau = 0.5"
   ]
  },
  {
   "cell_type": "code",
   "execution_count": null,
   "metadata": {},
   "outputs": [],
   "source": [
    "def getRating(self):\n",
    "    return (self.__rating * 173.7178) + 1500 \n",
    "def setRating(self, rating):\n",
    "    self.__rating = (rating - 1500) / 173.7178\n",
    "rating = property(getRating, setRating)\n",
    "def getRd(self):\n",
    "    return self.__rd * 173.7178\n",
    "\n",
    "def setRd(self, rd):\n",
    "    self.__rd = rd / 173.7178\n",
    "\n",
    "rd = property(getRd, setRd)\n",
    "\n",
    "def __init__(self, rating = 1500, rd = 350, vol = 0.06):\n",
    "    # For testing purposes, preload the values\n",
    "    # assigned to an unrated player.\n",
    "    self.setRating(rating)\n",
    "    self.setRd(rd)\n",
    "    self.vol = vol\n",
    "\n",
    "def _preRatingRD(self):\n",
    "    \"\"\" Calculates and updates the player's rating deviation for the\n",
    "    beginning of a rating period.\n",
    "\n",
    "    preRatingRD() -> None\n",
    "\n",
    "    \"\"\"\n",
    "    self.__rd = math.sqrt(math.pow(self.__rd, 2) + math.pow(self.vol, 2))\n",
    "\n",
    "def update_player(self, rating_list, RD_list, outcome_list):\n",
    "    # Convert the rating and rating deviation values for internal use.\n",
    "    rating_list = [(x - 1500) / 173.7178 for x in rating_list]\n",
    "    RD_list = [x / 173.7178 for x in RD_list]\n",
    "\n",
    "    v = self._v(rating_list, RD_list)\n",
    "    self.vol = self._newVol(rating_list, RD_list, outcome_list, v)\n",
    "    self._preRatingRD()\n",
    "\n",
    "    self.__rd = 1 / math.sqrt((1 / math.pow(self.__rd, 2)) + (1 / v))\n",
    "\n",
    "    tempSum = 0\n",
    "    for i in range(len(rating_list)):\n",
    "        tempSum += self._g(RD_list[i]) * \\\n",
    "                   (outcome_list[i] - self._E(rating_list[i], RD_list[i]))\n",
    "    self.__rating += math.pow(self.__rd, 2) * tempSum\n"
   ]
  },
  {
   "cell_type": "code",
   "execution_count": 3,
   "metadata": {},
   "outputs": [],
   "source": [
    "allan = Player"
   ]
  },
  {
   "cell_type": "code",
   "execution_count": 53,
   "metadata": {},
   "outputs": [],
   "source": [
    "allan = Player(1500,350,0.06)\n",
    "tony=Player()\n",
    "maxim = Player()"
   ]
  },
  {
   "cell_type": "code",
   "execution_count": 48,
   "metadata": {},
   "outputs": [],
   "source": [
    "rating_list = [1500,1500,1500]\n",
    "rd_list = [350,350,350]\n",
    "updated = [1500,1500,1500]"
   ]
  },
  {
   "cell_type": "code",
   "execution_count": 70,
   "metadata": {},
   "outputs": [],
   "source": [
    "tony.update_player([1500],[345],[1])"
   ]
  },
  {
   "cell_type": "code",
   "execution_count": 73,
   "metadata": {},
   "outputs": [
    {
     "data": {
      "text/plain": [
       "289.5994134715303"
      ]
     },
     "execution_count": 73,
     "metadata": {},
     "output_type": "execute_result"
    }
   ],
   "source": []
  }
 ],
 "metadata": {
  "kernelspec": {
   "display_name": "Python 3",
   "language": "python",
   "name": "python3"
  },
  "language_info": {
   "codemirror_mode": {
    "name": "ipython",
    "version": 3
   },
   "file_extension": ".py",
   "mimetype": "text/x-python",
   "name": "python",
   "nbconvert_exporter": "python",
   "pygments_lexer": "ipython3",
   "version": "3.8.1"
  }
 },
 "nbformat": 4,
 "nbformat_minor": 4
}
